{
 "cells": [
  {
   "cell_type": "code",
   "execution_count": 1,
   "metadata": {},
   "outputs": [],
   "source": [
    "import os\n",
    "import os.path as osp\n",
    "import pandas as pd\n",
    "from glob import glob"
   ]
  },
  {
   "cell_type": "code",
   "execution_count": 2,
   "metadata": {},
   "outputs": [],
   "source": [
    "slice = '0_0'\n",
    "data_dir = osp.abspath('../collected_data/intermediate/head_noun_extraction/')\n",
    "input_dir = osp.join(data_dir, slice)"
   ]
  },
  {
   "cell_type": "code",
   "execution_count": 3,
   "metadata": {},
   "outputs": [
    {
     "name": "stdout",
     "output_type": "stream",
     "text": [
      "79 additional items\n"
     ]
    }
   ],
   "source": [
    "unprocessed_files = glob(osp.join(input_dir, '*auto*'))\n",
    "processed_files = glob(osp.join(input_dir, '*human*'))\n",
    "\n",
    "processed_dfs = [pd.read_csv(f, index_col=0) for f in processed_files]\n",
    "unprocessed_dfs = [pd.read_csv(f, index_col=0) for f in unprocessed_files]\n",
    "\n",
    "processed_df = pd.concat(processed_dfs)\n",
    "unprocessed_df = pd.concat(unprocessed_dfs)\n",
    "\n",
    "unprocessed_items = set(unprocessed_df.item_identifyer) - set(processed_df.item_identifyer)\n",
    "print(f'{len(unprocessed_items)} additional items')\n",
    "assert len(processed_df) + len(unprocessed_items) == len(unprocessed_df)\n",
    "\n",
    "to_process = unprocessed_df.loc[\n",
    "        unprocessed_df.item_identifyer.isin(unprocessed_items)\n",
    "    ].reset_index(drop=True)\n",
    "assert len(to_process) == len(unprocessed_items)\n",
    "\n",
    "to_process.to_csv(osp.join(input_dir, 'collected_annotations_clean_auto_extra.csv'))"
   ]
  }
 ],
 "metadata": {
  "kernelspec": {
   "display_name": "context_representations",
   "language": "python",
   "name": "python3"
  },
  "language_info": {
   "codemirror_mode": {
    "name": "ipython",
    "version": 3
   },
   "file_extension": ".py",
   "mimetype": "text/x-python",
   "name": "python",
   "nbconvert_exporter": "python",
   "pygments_lexer": "ipython3",
   "version": "3.10.9"
  }
 },
 "nbformat": 4,
 "nbformat_minor": 2
}
