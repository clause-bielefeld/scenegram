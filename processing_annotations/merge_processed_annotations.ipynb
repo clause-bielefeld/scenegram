{
 "cells": [
  {
   "cell_type": "code",
   "execution_count": null,
   "metadata": {},
   "outputs": [],
   "source": [
    "import os\n",
    "import os.path as osp\n",
    "import pandas as pd\n",
    "from glob import glob\n",
    "\n",
    "slice = '0_*'"
   ]
  },
  {
   "cell_type": "code",
   "execution_count": null,
   "metadata": {},
   "outputs": [],
   "source": [
    "data_dir = osp.abspath('../collected_data')\n",
    "\n",
    "ann_dir = osp.join(data_dir, 'intermediate', 'head_noun_extraction')\n",
    "input_files = glob(osp.join(ann_dir, slice, 'collected_annotations_clean_human_*.csv'))\n",
    "\n",
    "processed_dfs = [pd.read_csv(f, index_col=0) for f in input_files]\n",
    "processed_df = pd.concat(processed_dfs).sort_index()\n",
    "processed_df.comments = processed_df.comments.fillna('')\n",
    "processed_df.head()"
   ]
  },
  {
   "cell_type": "code",
   "execution_count": null,
   "metadata": {},
   "outputs": [],
   "source": [
    "user_dir = '../generated_data/experiment_slices'\n",
    "user_files = glob(osp.join(user_dir, f'argilla_users_{slice}.csv'))\n",
    "\n",
    "user_data = pd.concat([pd.read_csv(f, index_col=0) for f in user_files])\n",
    "valid_map = user_data.set_index('username').valid.to_dict()\n",
    "user_data.head()"
   ]
  },
  {
   "cell_type": "code",
   "execution_count": null,
   "metadata": {},
   "outputs": [],
   "source": [
    "data_dir"
   ]
  },
  {
   "cell_type": "code",
   "execution_count": null,
   "metadata": {},
   "outputs": [],
   "source": [
    "raw_ann_dir = osp.join(data_dir, 'raw')\n",
    "raw_ann_files = glob(osp.join(raw_ann_dir, slice, 'collected_annotations.csv'))\n",
    "\n",
    "collected_df = pd.concat([pd.read_csv(f, index_col=0) for f in raw_ann_files])\n",
    "collected_df = collected_df[[c for c in collected_df.columns if c not in ['raw_annotation', 'user_id']]]\n",
    "\n",
    "collected_df.head()\n"
   ]
  },
  {
   "cell_type": "code",
   "execution_count": null,
   "metadata": {},
   "outputs": [],
   "source": [
    "assert len(collected_df) == len(processed_df)"
   ]
  },
  {
   "cell_type": "code",
   "execution_count": null,
   "metadata": {},
   "outputs": [],
   "source": [
    "merged_df = pd.merge(processed_df, collected_df, left_on='item_identifyer', right_on='item_identifyer')\n",
    "merged_df['valid'] = merged_df.user_name.map(valid_map)\n",
    "\n",
    "out_name = 'full_processed_collected_data.csv'\n",
    "out_path = osp.join(data_dir, out_name)\n",
    "merged_df.to_csv(out_path)"
   ]
  },
  {
   "cell_type": "code",
   "execution_count": null,
   "metadata": {},
   "outputs": [],
   "source": [
    "merged_df.head()"
   ]
  },
  {
   "cell_type": "code",
   "execution_count": null,
   "metadata": {},
   "outputs": [],
   "source": [
    "valid_df = merged_df[merged_df.valid]\n",
    "\n",
    "out_name = 'valid_processed_collected_data.csv'\n",
    "out_path = osp.join(data_dir, out_name)\n",
    "\n",
    "valid_df.to_csv(out_path)"
   ]
  },
  {
   "cell_type": "code",
   "execution_count": null,
   "metadata": {},
   "outputs": [],
   "source": [
    "valid_df.head()"
   ]
  },
  {
   "cell_type": "code",
   "execution_count": null,
   "metadata": {},
   "outputs": [],
   "source": []
  }
 ],
 "metadata": {
  "kernelspec": {
   "display_name": "context_representations",
   "language": "python",
   "name": "python3"
  },
  "language_info": {
   "codemirror_mode": {
    "name": "ipython",
    "version": 3
   },
   "file_extension": ".py",
   "mimetype": "text/x-python",
   "name": "python",
   "nbconvert_exporter": "python",
   "pygments_lexer": "ipython3",
   "version": "3.10.9"
  }
 },
 "nbformat": 4,
 "nbformat_minor": 2
}
