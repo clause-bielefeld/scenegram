{
 "cells": [
  {
   "cell_type": "code",
   "execution_count": null,
   "metadata": {},
   "outputs": [],
   "source": [
    "import pandas as pd\n",
    "import os\n",
    "import os.path as osp\n",
    "\n",
    "input_dir = '../generated_data/experiment_slices/results'\n",
    "user_dir = '../generated_data/experiment_slices'\n",
    "slices = os.listdir(input_dir)\n",
    "print(f'slices found: {slices}')"
   ]
  },
  {
   "cell_type": "code",
   "execution_count": null,
   "metadata": {},
   "outputs": [],
   "source": [
    "# read data\n",
    "input_files = [osp.join(input_dir, s, 'collected_annotations.csv') for s in slices]\n",
    "input_dfs = [pd.read_csv(file, index_col=0) for file in input_files]\n",
    "\n",
    "# merge dfs\n",
    "merged_df = pd.concat(input_dfs)\n",
    "\n",
    "# sort out invalid entries\n",
    "user_files = [osp.join(user_dir, f'argilla_users_{s}.csv') for s in slices]\n",
    "user_dfs = [pd.read_csv(file, index_col=0) for file in user_files]\n",
    "merged_user_df = pd.concat(user_dfs)\n",
    "merged_df = pd.merge(\n",
    "    merged_df,\n",
    "    merged_user_df[['username', 'valid']],\n",
    "    left_on='user_name',\n",
    "    right_on='username'\n",
    ")\n",
    "merged_df = merged_df[merged_df.valid.values]\n",
    "assert not False in merged_df.valid.values\n",
    "\n",
    "# sort df\n",
    "sorted_scenes = ['none'] + sorted(['kitchen', 'bathroom', 'bedroom', 'office', 'forest', 'mountain', 'beach', 'street', 'sky', 'sea_bottom'])\n",
    "merged_df.scene = pd.Categorical(merged_df.scene, categories=sorted_scenes, ordered=True)\n",
    "merged_df = merged_df.sort_values(by=['tangram', 'scene', 'workspace_name']).set_index('item_identifyer')  # reset_index(drop=True)\n",
    "\n",
    "# conver image urls to names\n",
    "merged_df['image_name'] = merged_df.image_url.map(lambda x: osp.split(x)[-1])\n",
    "\n",
    "# select columns\n",
    "columns = [\n",
    "    'tangram', 'scene', 'raw_annotation', \n",
    "    'tangram_id', 'item_id', 'tangram_pos', 'image_name',\n",
    "    'partition_name', 'workspace_name', 'user_name', 'time']\n",
    "\n",
    "merged_df = merged_df[columns]\n",
    "\n",
    "merged_df.sample(5)\n"
   ]
  },
  {
   "cell_type": "code",
   "execution_count": null,
   "metadata": {},
   "outputs": [],
   "source": [
    "# annotations per item\n",
    "merged_df.groupby('item_id').size().value_counts()"
   ]
  },
  {
   "cell_type": "code",
   "execution_count": null,
   "metadata": {},
   "outputs": [],
   "source": [
    "# annotations per user\n",
    "merged_df.groupby('user_name').size().value_counts()"
   ]
  },
  {
   "cell_type": "code",
   "execution_count": null,
   "metadata": {},
   "outputs": [],
   "source": [
    "out_dir = '../collected_data'\n",
    "out_path = osp.abspath(osp.join(out_dir, 'raw_collected_data.csv'))\n",
    "print(f'saving data to {out_path}')\n",
    "\n",
    "merged_df.to_csv(out_path)"
   ]
  },
  {
   "cell_type": "code",
   "execution_count": null,
   "metadata": {},
   "outputs": [],
   "source": [
    "def collapse_identical(x):\n",
    "    assert len(set(x)) == 1\n",
    "    return list(x)[0]\n",
    "\n",
    "collapsed_df = merged_df.groupby('item_id').agg({\n",
    "    'tangram': collapse_identical, \n",
    "    'scene': collapse_identical, \n",
    "    'raw_annotation': list, \n",
    "    'tangram_id': collapse_identical, \n",
    "    'item_id': collapse_identical,\n",
    "    'tangram_pos': collapse_identical, \n",
    "    'image_name': collapse_identical, \n",
    "    'partition_name': collapse_identical, \n",
    "    'workspace_name': list,\n",
    "    'user_name': list, \n",
    "    'time': list\n",
    "})\n",
    "\n",
    "collapsed_df = collapsed_df.set_index(['tangram', 'scene'])\n",
    "\n",
    "collapsed_df.sample(5)"
   ]
  },
  {
   "cell_type": "code",
   "execution_count": null,
   "metadata": {},
   "outputs": [],
   "source": []
  }
 ],
 "metadata": {
  "kernelspec": {
   "display_name": "llava",
   "language": "python",
   "name": "python3"
  },
  "language_info": {
   "codemirror_mode": {
    "name": "ipython",
    "version": 3
   },
   "file_extension": ".py",
   "mimetype": "text/x-python",
   "name": "python",
   "nbconvert_exporter": "python",
   "pygments_lexer": "ipython3",
   "version": "3.12.3"
  }
 },
 "nbformat": 4,
 "nbformat_minor": 2
}
