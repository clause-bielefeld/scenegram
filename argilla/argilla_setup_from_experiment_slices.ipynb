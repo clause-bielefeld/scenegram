{
 "cells": [
  {
   "cell_type": "code",
   "execution_count": null,
   "metadata": {},
   "outputs": [],
   "source": [
    "import argilla as rg\n",
    "from argilla_utils import build_info_dataset, build_completion_dataset, build_annotation_dataset\n",
    "import pandas as pd\n",
    "from tqdm.autonotebook import tqdm\n",
    "import os.path as osp\n",
    "\n",
    "# Argilla & data settings\n",
    "RESET_ARGILLA = True        # delete workspaces, users and datasets\n",
    "TEST_MODE = False           # restrict dataset size\n",
    "if TEST_MODE:\n",
    "    TEST_K_SCENES = 5\n",
    "    TEST_K_TANGRAMS = 14\n",
    "MODE = 'grid'               # 'inline', 'side' or 'grid', default: 'grid'\n",
    "assert MODE in {'inline', 'side', 'grid'}, f'invalid mode: {MODE}'\n",
    "N_GROUPS = 2                # number of groups between which the tangrams are distributed, default: 2\n",
    "ANNOTATIONS_PER_ITEM = 10   #  default: 10\n",
    "\n",
    "# Prolific settings\n",
    "COMPLETION_CODE = \"CODE\"\n",
    "COMPLETION_URL = \"https://app.prolific.com/submissions/complete?cc=CODE\"\n",
    "\n",
    "# random seed\n",
    "RANDOM_STATE = 123\n",
    "\n",
    "# paths\n",
    "data_dir = osp.abspath('../generated_data/experiment_slices/')\n",
    "credential_file = 'group_argilla_credentials.sh'\n",
    "\n",
    "partition_file = 'argilla_partitions_0.csv'\n",
    "user_file = 'argilla_users_0_0.csv'"
   ]
  },
  {
   "cell_type": "markdown",
   "metadata": {},
   "source": [
    "### Connecting to Argilla"
   ]
  },
  {
   "cell_type": "code",
   "execution_count": null,
   "metadata": {},
   "outputs": [],
   "source": [
    "# parse credentials\n",
    "with open(credential_file, 'r') as f:\n",
    "    lines = f.readlines()\n",
    "    content_lines = [c.strip() for c in lines if \"=\" in c]\n",
    "    credentials = {\n",
    "        l.split('=')[0]: l.split('=')[1] \n",
    "        for l in content_lines\n",
    "    }\n",
    "    \n",
    "    \n",
    "# connect as owner to argilla server\n",
    "rg.init(\n",
    "    api_url=credentials['ARGILLA_API_URL'],\n",
    "    api_key=credentials['OWNER_API_KEY'],\n",
    "    #extra_headers={\"Authorization\": f\"Bearer {os.environ['HF_TOKEN']}\"}\n",
    ")\n",
    "\n",
    "# print owner info\n",
    "rg.User.me()"
   ]
  },
  {
   "cell_type": "code",
   "execution_count": null,
   "metadata": {},
   "outputs": [],
   "source": [
    "credentials['ARGILLA_API_URL']"
   ]
  },
  {
   "cell_type": "code",
   "execution_count": null,
   "metadata": {},
   "outputs": [],
   "source": [
    "user_filepath = osp.join(data_dir, user_file)\n",
    "print(f'load credentials from {user_filepath} ...')\n",
    "user_df = pd.read_csv(user_filepath, index_col=0)\n",
    "\n",
    "partition_filepath = osp.join(data_dir, partition_file)\n",
    "print(f'load partitions from {partition_filepath} ...')\n",
    "partition_df = pd.read_csv(partition_filepath, index_col=0)"
   ]
  },
  {
   "cell_type": "code",
   "execution_count": null,
   "metadata": {},
   "outputs": [],
   "source": [
    "user_df"
   ]
  },
  {
   "cell_type": "code",
   "execution_count": null,
   "metadata": {},
   "outputs": [],
   "source": [
    "partition_df"
   ]
  },
  {
   "cell_type": "code",
   "execution_count": null,
   "metadata": {},
   "outputs": [],
   "source": [
    "if RESET_ARGILLA:\n",
    "    \n",
    "    print('existing workspaces:', [w.name for w in rg.Workspace.list()])\n",
    "    print('remove existing workspaces...')\n",
    "    \n",
    "    for w in tqdm(rg.Workspace.list()): \n",
    "    \n",
    "        # remove datasets assigned to workspace\n",
    "        workspace_datasets = rg.FeedbackDataset.list(workspace=w.name)\n",
    "        for d in workspace_datasets:\n",
    "            rg.FeedbackDataset.from_argilla(name=d.name, workspace=w.name).delete()\n",
    "    \n",
    "        # remove workspace\n",
    "        w.delete()\n",
    "        \n",
    "    annotators = [u for u in rg.User.list() if u.role == 'annotator']\n",
    "    print('existing annotators:', [u.username for u in annotators])\n",
    "    print('remove existing annotator users...')\n",
    "\n",
    "    for a in tqdm(annotators):\n",
    "        a.delete()"
   ]
  },
  {
   "cell_type": "markdown",
   "metadata": {},
   "source": [
    "### Create Argilla Workspaces and Users"
   ]
  },
  {
   "cell_type": "code",
   "execution_count": null,
   "metadata": {},
   "outputs": [],
   "source": [
    "# create argilla workspaces\n",
    "\n",
    "workspace_names = user_df.workspace.to_list()\n",
    "workspace_partition_map = {w: w.split('_')[0] for w in workspace_names}\n",
    "for workspace_name in tqdm(workspace_names):\n",
    "    rg.Workspace.create(workspace_name)\n",
    "    \n",
    "ann_workspaces = rg.Workspace.list()"
   ]
  },
  {
   "cell_type": "code",
   "execution_count": null,
   "metadata": {},
   "outputs": [],
   "source": [
    "# create argilla users\n",
    "\n",
    "for _, user in tqdm(user_df.iterrows(), total=len(user_df)):\n",
    "    rg.User.create(\n",
    "        username=user.username,\n",
    "        password=user.password,\n",
    "        workspaces=[user.workspace],  # also assign info and finish workspaces\n",
    "        role=\"annotator\",\n",
    "    )\n",
    "    \n",
    "annotators = [u for u in rg.User.list() if u.role == 'annotator']"
   ]
  },
  {
   "cell_type": "code",
   "execution_count": null,
   "metadata": {},
   "outputs": [],
   "source": [
    "assert len(annotators) == len(ann_workspaces)"
   ]
  },
  {
   "cell_type": "markdown",
   "metadata": {},
   "source": [
    "### Create Records and Push to Workspaces"
   ]
  },
  {
   "cell_type": "code",
   "execution_count": null,
   "metadata": {},
   "outputs": [],
   "source": [
    "for workspace in tqdm(ann_workspaces):\n",
    "    \n",
    "    # build datasets\n",
    "    info_dataset = build_info_dataset(workspace)\n",
    "    completion_dataset = build_completion_dataset(workspace, COMPLETION_CODE, COMPLETION_URL)\n",
    "    annotation_dataset = build_annotation_dataset(workspace, workspace_partition_map, partition_df, credentials['IMG_LOCATION'], MODE, RANDOM_STATE)\n",
    "    \n",
    "    # push info, completion and annotation datasets to workspace (in reversed order)\n",
    "    completion_dataset.push_to_argilla(name=completion_dataset[0].metadata['dataset_name'], workspace=workspace.name, show_progress=False)\n",
    "    annotation_dataset.push_to_argilla(name=annotation_dataset[0].metadata['dataset_name'], workspace=workspace.name, show_progress=False)\n",
    "    info_dataset.push_to_argilla(name=info_dataset[0].metadata['dataset_name'], workspace=workspace.name, show_progress=False)"
   ]
  }
 ],
 "metadata": {
  "kernelspec": {
   "display_name": "argilla",
   "language": "python",
   "name": "python3"
  },
  "language_info": {
   "codemirror_mode": {
    "name": "ipython",
    "version": 3
   },
   "file_extension": ".py",
   "mimetype": "text/x-python",
   "name": "python",
   "nbconvert_exporter": "python",
   "pygments_lexer": "ipython3",
   "version": "3.11.8"
  }
 },
 "nbformat": 4,
 "nbformat_minor": 2
}
