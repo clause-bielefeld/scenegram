{
 "cells": [
  {
   "cell_type": "code",
   "execution_count": null,
   "metadata": {},
   "outputs": [],
   "source": [
    "import pandas as pd\n",
    "import os\n",
    "import os.path as osp\n",
    "\n",
    "# paths\n",
    "in_data_dir = osp.abspath('../generated_data/')\n",
    "out_data_dir = osp.abspath('../generated_data/experiment_slices/')\n",
    "\n",
    "if not osp.isdir(out_data_dir):\n",
    "    print(f'create output path {out_data_dir}')\n",
    "    os.makedirs(out_data_dir)\n",
    "    \n",
    "print(f'save outputs to {out_data_dir}')"
   ]
  },
  {
   "cell_type": "code",
   "execution_count": null,
   "metadata": {},
   "outputs": [],
   "source": [
    "user_path = osp.join(in_data_dir, 'argilla_users.csv')\n",
    "partition_path = osp.join(in_data_dir, 'argilla_partitions.csv')\n",
    "stats_path = osp.join(in_data_dir, 'argilla_partition_stats.csv')\n",
    "\n",
    "user_df = pd.read_csv(user_path, index_col=0)\n",
    "partition_df = pd.read_csv(partition_path, index_col=0)\n",
    "stats_df = pd.read_csv(stats_path, index_col=0)"
   ]
  },
  {
   "cell_type": "code",
   "execution_count": null,
   "metadata": {},
   "outputs": [],
   "source": [
    "# partition names for groups\n",
    "\n",
    "slice_partition_names_0 = stats_df.loc[stats_df.partition_group == 0].index\n",
    "slice_partition_names_1 = stats_df.loc[stats_df.partition_group == 1].index"
   ]
  },
  {
   "cell_type": "code",
   "execution_count": null,
   "metadata": {},
   "outputs": [],
   "source": [
    "# partition_df for group 0\n",
    "slice_partition_df_0 = partition_df.loc[partition_df.partition.isin(slice_partition_names_0)]\n",
    "\n",
    "slice_user_df_0 = user_df.loc[user_df.partition.isin(slice_partition_names_0)]\n",
    "# user_df for group 0, first 5 annotations\n",
    "slice_user_df_0_0 = slice_user_df_0.loc[slice_user_df_0.partition_annotator_idx < 5]\n",
    "# user_df for group 0, last 5 annotations\n",
    "slice_user_df_0_1 = slice_user_df_0.loc[slice_user_df_0.partition_annotator_idx >= 5]"
   ]
  },
  {
   "cell_type": "code",
   "execution_count": null,
   "metadata": {},
   "outputs": [],
   "source": [
    "# partition_df for group 1\n",
    "slice_partition_df_1 = partition_df.loc[partition_df.partition.isin(slice_partition_names_1)]\n",
    "\n",
    "slice_user_df_1 = user_df.loc[user_df.partition.isin(slice_partition_names_1)]\n",
    "# user_df for group 1, first 5 annotations\n",
    "slice_user_df_1_0 = slice_user_df_1.loc[slice_user_df_1.partition_annotator_idx < 5]\n",
    "# user_df for group 1, last 5 annotations\n",
    "slice_user_df_1_1= slice_user_df_1.loc[slice_user_df_1.partition_annotator_idx >= 5]"
   ]
  },
  {
   "cell_type": "code",
   "execution_count": null,
   "metadata": {},
   "outputs": [],
   "source": [
    "# validation\n",
    "\n",
    "pd.testing.assert_frame_equal(\n",
    "    pd.concat([slice_partition_df_0, slice_partition_df_1]).sort_index(),\n",
    "    partition_df.sort_index()\n",
    ")\n",
    "\n",
    "pd.testing.assert_frame_equal(\n",
    "    pd.concat([slice_user_df_0, slice_user_df_1]).sort_index(), \n",
    "    user_df.sort_index()\n",
    ")\n",
    "\n",
    "pd.testing.assert_frame_equal(\n",
    "    pd.concat([slice_user_df_0_0, slice_user_df_0_1, slice_user_df_1_0, slice_user_df_1_1]).sort_index(), \n",
    "    user_df.sort_index()\n",
    ")\n",
    "\n",
    "assert len(set([\n",
    "    len(df) for df in [slice_partition_df_0, slice_partition_df_1]\n",
    "])) == 1\n",
    "\n",
    "assert len(set([\n",
    "    len(df) for df in [slice_user_df_0, slice_user_df_1]\n",
    "])) == 1\n",
    "\n",
    "assert len(set([\n",
    "    len(df) for df in [slice_user_df_0_0, slice_user_df_0_1, slice_user_df_1_0, slice_user_df_1_1]\n",
    "])) == 1"
   ]
  },
  {
   "cell_type": "code",
   "execution_count": null,
   "metadata": {},
   "outputs": [],
   "source": [
    "# save to files\n",
    "\n",
    "slice_partition_df_0.to_csv(osp.join(out_data_dir, 'argilla_partitions_0.csv'))\n",
    "slice_partition_df_1.to_csv(osp.join(out_data_dir, 'argilla_partitions_1.csv'))\n",
    "slice_user_df_0.to_csv(osp.join(out_data_dir, 'argilla_users_0.csv'))\n",
    "slice_user_df_1.to_csv(osp.join(out_data_dir, 'argilla_users_1.csv'))\n",
    "slice_user_df_0_0.to_csv(osp.join(out_data_dir, 'argilla_users_0_0.csv'))\n",
    "slice_user_df_0_1.to_csv(osp.join(out_data_dir, 'argilla_users_0_1.csv'))\n",
    "slice_user_df_1_0.to_csv(osp.join(out_data_dir, 'argilla_users_1_0.csv'))\n",
    "slice_user_df_1_1.to_csv(osp.join(out_data_dir, 'argilla_users_1_1.csv'))"
   ]
  }
 ],
 "metadata": {
  "kernelspec": {
   "display_name": "argilla",
   "language": "python",
   "name": "python3"
  },
  "language_info": {
   "codemirror_mode": {
    "name": "ipython",
    "version": 3
   },
   "file_extension": ".py",
   "mimetype": "text/x-python",
   "name": "python",
   "nbconvert_exporter": "python",
   "pygments_lexer": "ipython3",
   "version": "3.11.8"
  }
 },
 "nbformat": 4,
 "nbformat_minor": 2
}
