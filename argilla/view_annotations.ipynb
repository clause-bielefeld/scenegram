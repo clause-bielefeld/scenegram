{
 "cells": [
  {
   "cell_type": "code",
   "execution_count": null,
   "metadata": {},
   "outputs": [],
   "source": [
    "import pandas as pd\n",
    "import os\n",
    "import os.path as osp\n",
    "from PIL import Image\n",
    "import requests\n",
    "from io import BytesIO\n",
    "import numpy as np\n",
    "\n",
    "IMG_LOCATION=osp.abspath('../generated_items/')\n",
    "slice = '0_0'\n",
    "data_dir = osp.abspath('../generated_data/')\n",
    "credentials_dir = osp.join(data_dir, 'credentials_data', slice.replace('_', '-'))\n",
    "\n",
    "users_file = osp.join(data_dir, 'experiment_slices', f'argilla_users_{slice}.csv')\n",
    "anns_file = osp.join(data_dir, 'experiment_slices', 'results', slice, 'collected_annotations.csv')\n",
    "screening_file = osp.join(data_dir, 'experiment_slices', 'results', slice, 'annotation_screening.csv')"
   ]
  },
  {
   "cell_type": "code",
   "execution_count": null,
   "metadata": {},
   "outputs": [],
   "source": [
    "_anns = pd.read_csv(anns_file, index_col=0)\n",
    "print(len(_anns))\n",
    "\n",
    "completion_data = pd.read_csv(osp.join(data_dir, 'completion_data.csv'), index_col=0)\n",
    "\n",
    "users_df = pd.read_csv(users_file, index_col=1)\n",
    "\n",
    "credential_dfs = [pd.read_csv(osp.join(credentials_dir, file), index_col=0) for file in os.listdir(credentials_dir)]\n",
    "credential_df = pd.concat(credential_dfs).reset_index()\n",
    "credential_df = credential_df[credential_df.Status == 'USED']\n",
    "\n",
    "credential_df = pd.merge(credential_df, users_df[['username', 'valid']], left_on='Username', right_on='username')\n",
    "\n",
    "anns = pd.merge(\n",
    "    _anns, \n",
    "    credential_df[['Username', 'Participant Id', 'valid']], \n",
    "    left_on='user_name', \n",
    "    right_on='Username'\n",
    ").rename(columns={'Participant Id': 'prolific_id'})\n",
    "print(len(anns))"
   ]
  },
  {
   "cell_type": "code",
   "execution_count": null,
   "metadata": {},
   "outputs": [],
   "source": [
    "credential_df"
   ]
  },
  {
   "cell_type": "code",
   "execution_count": null,
   "metadata": {},
   "outputs": [],
   "source": [
    "anns = anns[anns['valid']]\n",
    "credential_df = credential_df[credential_df['valid']]"
   ]
  },
  {
   "cell_type": "code",
   "execution_count": null,
   "metadata": {},
   "outputs": [],
   "source": [
    "user_ann_counts = anns.groupby('user_name').count().raw_annotation\n",
    "pd.merge(credential_df, user_ann_counts, left_on='Username', right_index=True).sort_values(by='raw_annotation')"
   ]
  },
  {
   "cell_type": "code",
   "execution_count": null,
   "metadata": {},
   "outputs": [],
   "source": [
    "anns.groupby('item_id').size().value_counts()"
   ]
  },
  {
   "cell_type": "code",
   "execution_count": null,
   "metadata": {},
   "outputs": [],
   "source": [
    "anns.groupby('user_name').size().value_counts()"
   ]
  },
  {
   "cell_type": "markdown",
   "metadata": {},
   "source": [
    "# per Annotator"
   ]
  },
  {
   "cell_type": "code",
   "execution_count": null,
   "metadata": {},
   "outputs": [],
   "source": [
    "if not osp.isfile(screening_file):\n",
    "    print('make new file...')\n",
    "    screening_df = pd.DataFrame(credential_df[['username', 'Participant Id']])\n",
    "    screening_df['ok'] = ''\n",
    "    screening_df['comments'] = ''\n",
    "    screening_df['requested_return'] = ''\n",
    "    screening_df.to_csv(screening_file)\n",
    "else:\n",
    "    print('use existing file...')\n",
    "    screening_df = pd.read_csv(screening_file, index_col=0)\n",
    "    \n",
    "# add new entries from credentials file\n",
    "    \n",
    "additional_entries = credential_df.loc[\n",
    "    ~credential_df.username.isin(screening_df.username.values)]\n",
    "\n",
    "if len(additional_entries) > 0:\n",
    "    print(f'expanding file with {len(additional_entries)} additional entries...')\n",
    "    additional_entries = additional_entries[['username', 'Participant Id']]\n",
    "    additional_entries.loc[:, 'ok'] = ''\n",
    "    additional_entries.loc[:, 'comments'] = ''\n",
    "    additional_entries.loc[:, 'requested_return'] = ''\n",
    "\n",
    "    screening_df = pd.concat([screening_df, additional_entries]).reset_index(drop=True)\n",
    "    screening_df.to_csv(screening_file)"
   ]
  },
  {
   "cell_type": "code",
   "execution_count": null,
   "metadata": {},
   "outputs": [],
   "source": [
    "screening_df.ok = screening_df.ok.map(lambda x: x == 'y')\n",
    "screening_df.requested_return = screening_df.requested_return.map(lambda x: x in ['y', 'returned'])"
   ]
  },
  {
   "cell_type": "code",
   "execution_count": null,
   "metadata": {},
   "outputs": [],
   "source": [
    "screening_df"
   ]
  },
  {
   "cell_type": "raw",
   "metadata": {
    "vscode": {
     "languageId": "raw"
    }
   },
   "source": [
    "reject_df = screening_df[np.logical_and(~screening_df.ok, ~screening_df.requested_return)]\n",
    "reject_df"
   ]
  },
  {
   "cell_type": "code",
   "execution_count": null,
   "metadata": {},
   "outputs": [],
   "source": [
    "user = 'xxlsnhpt'\n",
    "\n",
    "user_anns = anns.loc[anns.user_name == user].sort_values('item_id').sample(frac=1.0)\n",
    "print(f'{user} : {len(user_anns)} entries ({\"complete\" if len(user_anns) == 37 else \"INCOMPLETE\"})', '\\n------------------------\\n')\n",
    "\n",
    "for _, x in user_anns.iterrows():\n",
    "    # if _ > 10:\n",
    "    #     break\n",
    "    print(x.item_id)\n",
    "    img_name = osp.split(x.image_url)[-1]\n",
    "    img_path = osp.join(IMG_LOCATION, img_name)\n",
    "    img = Image.open(img_path).resize((256,256))\n",
    "    display(img)\n",
    "\n",
    "    print(x.raw_annotation)\n",
    "    \n",
    "    print('\\n--------------------\\n')"
   ]
  },
  {
   "cell_type": "markdown",
   "metadata": {},
   "source": [
    "# per Item"
   ]
  },
  {
   "cell_type": "code",
   "execution_count": null,
   "metadata": {},
   "outputs": [],
   "source": [
    "agg_anns = anns.groupby('item_id').agg(list).reset_index()\n",
    "for _, x in agg_anns.iterrows():\n",
    "    if _ > 10:\n",
    "        break\n",
    "    \n",
    "    img_name = osp.split(x.image_url[0])[-1]\n",
    "    img_path = osp.join(IMG_LOCATION, img_name)\n",
    "    img = Image.open(img_path)\n",
    "    \n",
    "    # response = requests.get(x.image_url[0])\n",
    "    # img = Image.open(BytesIO(response.content))\n",
    "    \n",
    "    display(img)\n",
    "\n",
    "    for a, n in zip(x.raw_annotation, x.user_name):\n",
    "        print(f'{n}\\t:\\t{a}')\n",
    "        \n",
    "    print('\\n-------------------------------\\n')"
   ]
  }
 ],
 "metadata": {
  "kernelspec": {
   "display_name": "argilla",
   "language": "python",
   "name": "python3"
  },
  "language_info": {
   "codemirror_mode": {
    "name": "ipython",
    "version": 3
   },
   "file_extension": ".py",
   "mimetype": "text/x-python",
   "name": "python",
   "nbconvert_exporter": "python",
   "pygments_lexer": "ipython3",
   "version": "3.11.8"
  }
 },
 "nbformat": 4,
 "nbformat_minor": 2
}
